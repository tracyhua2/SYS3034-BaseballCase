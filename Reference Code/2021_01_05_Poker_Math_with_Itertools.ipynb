{
  "cells": [
    {
      "cell_type": "markdown",
      "metadata": {
        "id": "aG42v1vnYEmk"
      },
      "source": [
        "# \"Poker Combinatorics with Itertools\"\n",
        "\n",
        "- toc: false\n",
        "- comments: false\n",
        "- permalink: /combos\n",
        "- categories: [poker, python]"
      ]
    },
    {
      "cell_type": "markdown",
      "metadata": {
        "id": "NrT_6fjCYEmm"
      },
      "source": [
        "Suppose you're playing No Limit Hold'em, and based on how your opponent has played the hand, you believe they have pocket aces, pocket kings, or ace-king. How likely is each hand? (Hint: They're not equally likely!)\n",
        "\n",
        "The math that determines the likelihood of each hand is called combinatorics and it's in a sweet spot of being non-obvious, yet pretty easy to understand, and highly relevant for in-game strategy. I just finished [Fluent Python](https://learning.oreilly.com/library/view/fluent-python/9781491946237/) by Luciano Ramalho and got a refresher on the [Python built-in itertools module](https://docs.python.org/3/library/itertools.html). It's the perfect way to explore poker combinations.\n",
        "\n",
        "By the way, you can run this post as a colab notebook. Click the colab link under the title to open a notebook in colab where you can run the code or try your own changes."
      ]
    },
    {
      "cell_type": "code",
      "execution_count": null,
      "metadata": {
        "id": "N43qomOfYEmn"
      },
      "outputs": [],
      "source": [
        "import itertools"
      ]
    },
    {
      "cell_type": "markdown",
      "metadata": {
        "id": "3rk4VWOzYEmo"
      },
      "source": [
        "The first example in the book is actually a playing card deck, so we can borrow a little code to get started."
      ]
    },
    {
      "cell_type": "code",
      "execution_count": null,
      "metadata": {
        "id": "jl46RmB_YEmo"
      },
      "outputs": [],
      "source": [
        "suits = 'spades hearts diamonds clubs'.split()\n",
        "ranks = [str(n) for n in range(2, 11)] + list('JQKA')"
      ]
    },
    {
      "cell_type": "markdown",
      "metadata": {
        "id": "GjzTZzfoYEmo"
      },
      "source": [
        "To get the cards in the deck, you can use the `product` function from itertools. Here's the description:\n",
        "\n",
        "\"Cartesian product: yields N-tuples made by combining items from each input iterable like nested for loops could produce.\""
      ]
    },
    {
      "cell_type": "code",
      "execution_count": null,
      "metadata": {
        "id": "Yj7oKXPvYEmo"
      },
      "outputs": [],
      "source": [
        "cards = list(itertools.product(ranks, suits))"
      ]
    },
    {
      "cell_type": "markdown",
      "metadata": {
        "id": "idcY4jEEYEmp"
      },
      "source": [
        "All the itertools functions return iterators, so if you want to do things like check the length, you need to coerce the result into a list."
      ]
    },
    {
      "cell_type": "code",
      "execution_count": null,
      "metadata": {
        "id": "oUufotBBYEmp",
        "outputId": "7d963f91-ed7c-47fb-a681-6b02287d962b"
      },
      "outputs": [
        {
          "data": {
            "text/plain": [
              "52"
            ]
          },
          "execution_count": 111,
          "metadata": {},
          "output_type": "execute_result"
        }
      ],
      "source": [
        "len(cards)"
      ]
    },
    {
      "cell_type": "code",
      "execution_count": null,
      "metadata": {
        "id": "ApPERwh0YEmp",
        "outputId": "a8850083-5ada-44a3-bc31-a1be1b387734"
      },
      "outputs": [
        {
          "data": {
            "text/plain": [
              "(('2', 'spades'), ('A', 'clubs'))"
            ]
          },
          "execution_count": 112,
          "metadata": {},
          "output_type": "execute_result"
        }
      ],
      "source": [
        "cards[0], cards[-1]"
      ]
    },
    {
      "cell_type": "markdown",
      "metadata": {
        "id": "x_tG6SEcYEmp"
      },
      "source": [
        "Story checks out!\n",
        "\n",
        "Now, combinations (or combos) are all the ways you can deal a two-card starting hand. Conveniently, itertools has a `combinations` function."
      ]
    },
    {
      "cell_type": "code",
      "execution_count": null,
      "metadata": {
        "id": "DIhwVPT-YEmq"
      },
      "outputs": [],
      "source": [
        "combos = list(itertools.combinations(cards, 2))"
      ]
    },
    {
      "cell_type": "code",
      "execution_count": null,
      "metadata": {
        "id": "qQ02lgVrYEmq",
        "outputId": "7b7d05de-6c82-4ce7-f7f9-5c67b8207efd"
      },
      "outputs": [
        {
          "data": {
            "text/plain": [
              "1326"
            ]
          },
          "execution_count": 114,
          "metadata": {},
          "output_type": "execute_result"
        }
      ],
      "source": [
        "len(combos)"
      ]
    },
    {
      "cell_type": "markdown",
      "metadata": {
        "id": "rf3wkqCMYEmq"
      },
      "source": [
        "There are 1326 combinations, but these include combinations that you would typically consider the same hand."
      ]
    },
    {
      "cell_type": "code",
      "execution_count": null,
      "metadata": {
        "id": "PFc9BCQtYEmq",
        "outputId": "ad05440d-dfc8-4e58-cbd0-87178ef9bcf4"
      },
      "outputs": [
        {
          "data": {
            "text/plain": [
              "(('2', 'spades'), ('2', 'hearts'))"
            ]
          },
          "execution_count": 137,
          "metadata": {},
          "output_type": "execute_result"
        }
      ],
      "source": [
        "combos[0]"
      ]
    },
    {
      "cell_type": "code",
      "execution_count": null,
      "metadata": {
        "id": "Qwuvq9XbYEmq",
        "outputId": "e53616f8-2804-4f6e-b199-9c2c6f7db0e6"
      },
      "outputs": [
        {
          "data": {
            "text/plain": [
              "(('2', 'spades'), ('2', 'diamonds'))"
            ]
          },
          "execution_count": 138,
          "metadata": {},
          "output_type": "execute_result"
        }
      ],
      "source": [
        "combos[1]"
      ]
    },
    {
      "cell_type": "markdown",
      "metadata": {
        "id": "krxjFDaoYEmq"
      },
      "source": [
        "Even though the above hands have different cards, you'd probably think of both of them as \"pocket deuces.\"\n",
        "\n",
        "If you play a lot of poker, you've likely seen \"The Grid,\" which is a more intuitive way of representing hands."
      ]
    },
    {
      "cell_type": "markdown",
      "metadata": {
        "id": "lxUEy1WmYEmq"
      },
      "source": [
        "![poker grid](https://github.com/natesolon/fastpages/blob/master/_notebooks/combos/poker_grid.png?raw=1)"
      ]
    },
    {
      "cell_type": "markdown",
      "metadata": {
        "id": "Bjf5V6kHYEmq"
      },
      "source": [
        "In this way of representing the hands, the upper right hands are suited, the lower left are offsuit, and the pairs go diagonally across the middle.\n",
        "\n",
        "To get something more like the grid representation of hands, you can take the product of ranks with itself."
      ]
    },
    {
      "cell_type": "code",
      "execution_count": null,
      "metadata": {
        "id": "kbMY99XnYEmq"
      },
      "outputs": [],
      "source": [
        "hands = list(itertools.product(ranks, ranks))"
      ]
    },
    {
      "cell_type": "code",
      "execution_count": null,
      "metadata": {
        "id": "lA9aQSajYEmq",
        "outputId": "647099e5-37df-4031-9eca-6f22d136a059"
      },
      "outputs": [
        {
          "data": {
            "text/plain": [
              "169"
            ]
          },
          "execution_count": 118,
          "metadata": {},
          "output_type": "execute_result"
        }
      ],
      "source": [
        "len(hands)"
      ]
    },
    {
      "cell_type": "code",
      "execution_count": null,
      "metadata": {
        "id": "7l0XkJIEYEmq",
        "outputId": "4bcb9570-c4ce-4ddc-fcaa-88914ef6076f"
      },
      "outputs": [
        {
          "data": {
            "text/plain": [
              "('2', '2')"
            ]
          },
          "execution_count": 119,
          "metadata": {},
          "output_type": "execute_result"
        }
      ],
      "source": [
        "hands[0]"
      ]
    },
    {
      "cell_type": "code",
      "execution_count": null,
      "metadata": {
        "id": "4PxO76mnYEmq",
        "outputId": "c45076e2-bb30-44ff-9680-71c0fa4f1053"
      },
      "outputs": [
        {
          "data": {
            "text/plain": [
              "('A', 'A')"
            ]
          },
          "execution_count": 120,
          "metadata": {},
          "output_type": "execute_result"
        }
      ],
      "source": [
        "hands[-1]"
      ]
    },
    {
      "cell_type": "markdown",
      "metadata": {
        "id": "kgBoz6bzYEmq"
      },
      "source": [
        "How likely a hand is depends on how many ways it can be dealt - the combinations. You now have all the information you need to answer the initial question: If you think your opponent has pocket aces, pocket kings, or ace-king, how likely is each?"
      ]
    },
    {
      "cell_type": "code",
      "execution_count": null,
      "metadata": {
        "id": "Ja9-OVZOYEmq"
      },
      "outputs": [],
      "source": [
        "aces = [('A', s) for s in suits]\n",
        "kings = [('K', s) for s in suits]"
      ]
    },
    {
      "cell_type": "code",
      "execution_count": null,
      "metadata": {
        "id": "UJ3oTM8rYEmq"
      },
      "outputs": [],
      "source": [
        "AA = list(itertools.combinations(aces, 2))\n",
        "KK = list(itertools.combinations(kings, 2))"
      ]
    },
    {
      "cell_type": "code",
      "execution_count": null,
      "metadata": {
        "id": "f8oxvu19YEmr",
        "outputId": "edbfc890-9e2b-4a7f-93b5-d1ae6ec2815e"
      },
      "outputs": [
        {
          "data": {
            "text/plain": [
              "6"
            ]
          },
          "execution_count": 127,
          "metadata": {},
          "output_type": "execute_result"
        }
      ],
      "source": [
        "len(AA)"
      ]
    },
    {
      "cell_type": "code",
      "execution_count": null,
      "metadata": {
        "id": "5viHxdZDYEmr",
        "outputId": "cf947fd7-9881-45b2-fe20-27349f1cc36a"
      },
      "outputs": [
        {
          "data": {
            "text/plain": [
              "[(('A', 'spades'), ('A', 'hearts')),\n",
              " (('A', 'spades'), ('A', 'diamonds')),\n",
              " (('A', 'spades'), ('A', 'clubs')),\n",
              " (('A', 'hearts'), ('A', 'diamonds')),\n",
              " (('A', 'hearts'), ('A', 'clubs')),\n",
              " (('A', 'diamonds'), ('A', 'clubs'))]"
            ]
          },
          "execution_count": 128,
          "metadata": {},
          "output_type": "execute_result"
        }
      ],
      "source": [
        "AA"
      ]
    },
    {
      "cell_type": "markdown",
      "metadata": {
        "id": "NDQr7UpkYEmr"
      },
      "source": [
        "There are six ways to deal pocket aces. The same applies for pocket kings, or any other pair, of course. The chances of being dealt pocket aces are six divided by the total number of combinations."
      ]
    },
    {
      "cell_type": "code",
      "execution_count": null,
      "metadata": {
        "id": "JQ0WjigHYEmr",
        "outputId": "4f882256-9967-4818-b674-8c9bbbef30a8"
      },
      "outputs": [
        {
          "data": {
            "text/plain": [
              "0.004524886877828055"
            ]
          },
          "execution_count": 131,
          "metadata": {},
          "output_type": "execute_result"
        }
      ],
      "source": [
        "len(AA) / len(combos)"
      ]
    },
    {
      "cell_type": "markdown",
      "metadata": {
        "id": "lhfUH57aYEmr"
      },
      "source": [
        "You get dealt pocket aces about one in 200 hands."
      ]
    },
    {
      "cell_type": "code",
      "execution_count": null,
      "metadata": {
        "id": "2a5dZptyYEmr"
      },
      "outputs": [],
      "source": [
        "AK = list(itertools.product(aces, kings))"
      ]
    },
    {
      "cell_type": "code",
      "execution_count": null,
      "metadata": {
        "id": "RmoXtXafYEmr",
        "outputId": "5812fec8-96d7-4968-be24-8ff8ef3bb285"
      },
      "outputs": [
        {
          "data": {
            "text/plain": [
              "16"
            ]
          },
          "execution_count": 133,
          "metadata": {},
          "output_type": "execute_result"
        }
      ],
      "source": [
        "len(AK)"
      ]
    },
    {
      "cell_type": "markdown",
      "metadata": {
        "id": "6t0WHZCuYEmr"
      },
      "source": [
        "There are 16 combinations of AK. Of those, some are suited and some are offsuit."
      ]
    },
    {
      "cell_type": "code",
      "execution_count": null,
      "metadata": {
        "id": "R3-SIvF5YEmr"
      },
      "outputs": [],
      "source": [
        "AKs = [h for h in AK if h[0][1] == h[1][1]]\n",
        "AKo = [h for h in AK if h[0][1] != h[1][1]]"
      ]
    },
    {
      "cell_type": "code",
      "execution_count": null,
      "metadata": {
        "id": "2m0FYj1DYEmr",
        "outputId": "7e6536e4-ec30-43da-a0a3-4f74c4e65067"
      },
      "outputs": [
        {
          "data": {
            "text/plain": [
              "(4, 12)"
            ]
          },
          "execution_count": 135,
          "metadata": {},
          "output_type": "execute_result"
        }
      ],
      "source": [
        "len(AKs), len(AKo)"
      ]
    },
    {
      "cell_type": "markdown",
      "metadata": {
        "id": "ZEVWFlN8YEmr"
      },
      "source": [
        "Given that there are 16 combos of ace-king and only six each of aces and kings, ace-king is more likely than aces and kings *combined*. Given that pocket deuces is a slight favorite against ace-king, if you hold deuces in this situation, you are actually ahead more often than not. Unfortunately, this is a classic slightly ahead/way behind scenario: you're either a tiny favorite or a huge underdog, so you're still basically screwed. But that's a topic for another day."
      ]
    },
    {
      "cell_type": "markdown",
      "metadata": {
        "id": "hlcfIFkXYEmr"
      },
      "source": [
        "## Takeaways\n",
        "* Not all hands are equally likely.\n",
        "* Offsuit, unpaired hands are the most likely. Pairs are less likely. Suited hands are the rarest are all.\n",
        "* This means, if you are considering how likely it is for your opponent to have a certain hand, it's *really* important whether or not they would play the offsuit flavor of that hand."
      ]
    },
    {
      "cell_type": "code",
      "execution_count": null,
      "metadata": {
        "id": "eDXsxW3PYEmr"
      },
      "outputs": [],
      "source": []
    }
  ],
  "metadata": {
    "kernelspec": {
      "display_name": "Python 3",
      "language": "python",
      "name": "python3"
    },
    "language_info": {
      "codemirror_mode": {
        "name": "ipython",
        "version": 3
      },
      "file_extension": ".py",
      "mimetype": "text/x-python",
      "name": "python",
      "nbconvert_exporter": "python",
      "pygments_lexer": "ipython3",
      "version": "3.9.0b5"
    },
    "colab": {
      "provenance": []
    }
  },
  "nbformat": 4,
  "nbformat_minor": 0
}