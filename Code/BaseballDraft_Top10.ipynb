{
  "nbformat": 4,
  "nbformat_minor": 0,
  "metadata": {
    "colab": {
      "provenance": [],
      "authorship_tag": "ABX9TyMcEnTmyuUtRZHeKQgf5bHY",
      "include_colab_link": true
    },
    "kernelspec": {
      "name": "python3",
      "display_name": "Python 3"
    },
    "language_info": {
      "name": "python"
    }
  },
  "cells": [
    {
      "cell_type": "markdown",
      "metadata": {
        "id": "view-in-github",
        "colab_type": "text"
      },
      "source": [
        "<a href=\"https://colab.research.google.com/github/tracyhua2/SYS3034-BaseballCase/blob/main/Code/BaseballDraft_Top10.ipynb\" target=\"_parent\"><img src=\"https://colab.research.google.com/assets/colab-badge.svg\" alt=\"Open In Colab\"/></a>"
      ]
    },
    {
      "cell_type": "code",
      "execution_count": null,
      "metadata": {
        "id": "SKPh5BfV18zm"
      },
      "outputs": [],
      "source": [
        "import pandas as pd\n",
        "from sklearn.preprocessing import StandardScaler\n",
        "from sklearn.cluster import KMeans\n",
        "import numpy as np\n",
        "from sklearn.metrics import mean_squared_error, mean_absolute_error, r2_score\n",
        "from sklearn.linear_model import LinearRegression\n",
        "\n",
        "player_url = \"https://raw.githubusercontent.com/tracyhua2/SYS3034-BaseballCase/refs/heads/main/Data/player_data.csv\"\n",
        "player_data = pd.read_csv(player_url)\n",
        "\n",
        "hitting_url = \"https://raw.githubusercontent.com/tracyhua2/SYS3034-BaseballCase/refs/heads/main/Data/hitting_data.csv\"\n",
        "hitting_data = pd.read_csv(hitting_url)\n",
        "\n",
        "pitching_url = \"https://raw.githubusercontent.com/tracyhua2/SYS3034-BaseballCase/refs/heads/main/Data/pitching_data.csv\"\n",
        "pitching_data = pd.read_csv(pitching_url)\n"
      ]
    },
    {
      "cell_type": "code",
      "source": [
        "player_df = player_data.copy()\n",
        "\n",
        "# Create performance metrics function\n",
        "def calculate_metrics(y_true, y_pred):\n",
        "    rmse = np.sqrt(mean_squared_error(y_true, y_pred))\n",
        "    mae = mean_absolute_error(y_true, y_pred)\n",
        "    r2 = r2_score(y_true, y_pred)\n",
        "    return rmse, mae, r2\n",
        "\n",
        "# # Calculate team batting metrics\n",
        "# def analyze_team_performance(df):\n",
        "#     # Create composite scoring metric\n",
        "#     player_df['score'] = (player_df['R'] * 0.3 +\n",
        "#                            player_df['HR'] * 0.4 +\n",
        "#                            player_df['RBI'] * 0.2 +\n",
        "#                            player_df['OPS'] * 0.1)\n",
        "#     # insert weights and metrics here\n",
        "\n",
        "#     return player_df.sort_values('score', ascending=False)\n",
        "\n",
        "# Analyze player performance\n",
        "def analyze_player_stats(player_df):\n",
        "    # # Calculate OPS+ (normalized OPS)\n",
        "    # league_ops = hitting_data['OPS'].mean()\n",
        "    # df['OPS_plus'] = (hitting_data['OPS'] / league_ops) * 100\n",
        "\n",
        "    # Create player value metric\n",
        "    player_df['value'] = (player_df['RBI'] * 0.3 +\n",
        "                         player_df['HR'] * 0.35 +\n",
        "                         player_df['OPS_plus'] * 0.35)\n",
        "    # insert weights and metrics here\n",
        "\n",
        "    return player_df.sort_values('value', ascending=False)\n",
        "\n",
        "# Test the functions\n",
        "player_analysis = analyze_player_stats(player_data)\n",
        "\n",
        "# Create prediction model\n",
        "def predict_batting_average(df):\n",
        "\n",
        "    # Prepare input features and target\n",
        "    X = df[['H', 'AB']].values\n",
        "    y = df['BA'].values\n",
        "\n",
        "    # Normalize features (optional)\n",
        "    X[:, 0] = X[:, 0] / X[:, 1]  # Hits divided by At-bats\n",
        "\n",
        "    # Split into training and test sets\n",
        "    train_size = int(0.8 * len(df))\n",
        "    X_train, X_test = X[:train_size], X[train_size:]\n",
        "    y_train, y_test = y[:train_size], y[train_size:]\n",
        "\n",
        "    # Fit model\n",
        "    model = LinearRegression()\n",
        "    model.fit(X_train[:, [0]], y_train)  # Use only normalized feature\n",
        "\n",
        "    # Make predictions\n",
        "    y_pred = model.predict(X_test[:, [0]])\n",
        "\n",
        "    # Calculate metrics\n",
        "    rmse = np.sqrt(mean_squared_error(y_test, y_pred))\n",
        "    mae = mean_absolute_error(y_test, y_pred)\n",
        "    r2 = r2_score(y_test, y_pred)\n",
        "    return rmse, mae, r2\n",
        "\n",
        "# Print results\n",
        "print(\"\\nTop 10 Players by Value Metric:\")\n",
        "print(player_analysis[['Player', 'player_value', 'HR', 'RBI', 'OPS_plus']].head(10))\n",
        "\n",
        "# Test prediction model\n",
        "rmse, mae, r2 = predict_batting_average(hitting_data)\n",
        "print(f\"\\nPrediction Metrics:\")\n",
        "print(f\"RMSE: {rmse:.3f}\")\n",
        "print(f\"MAE: {mae:.3f}\")\n",
        "print(f\"R2 Score: {r2:.3f}\")"
      ],
      "metadata": {
        "colab": {
          "base_uri": "https://localhost:8080/"
        },
        "id": "2aM8Wqo568SQ",
        "outputId": "74ff44c5-f571-4376-ecb2-bdf206b83347"
      },
      "execution_count": null,
      "outputs": [
        {
          "output_type": "stream",
          "name": "stdout",
          "text": [
            "\n",
            "Top 10 Players by Value Metric:\n",
            "        Player  player_value  HR  RBI    OPS_plus\n",
            "17   4,000,000     86.138773  37  127  100.253638\n",
            "13     555,000     85.662555  32  130  101.321586\n",
            "12   7,750,000     84.352723  33  124  101.722066\n",
            "18   3,450,000     82.080537  36  119   96.515819\n",
            "15  11,600,000     81.932219  23  129  100.520625\n",
            "23   1,032,500     78.951041  37  106   97.717261\n",
            "6    7,166,666     76.699446  23  110  101.855560\n",
            "25  11,285,714     75.782973  33  104   94.379923\n",
            "27  19,243,683     75.569023  27  112   92.911494\n",
            "8    4,766,666     74.526505  33   90  102.790015\n",
            "\n",
            "Prediction Metrics:\n",
            "RMSE: 0.000\n",
            "MAE: 0.000\n",
            "R2 Score: 0.998\n"
          ]
        }
      ]
    }
  ]
}