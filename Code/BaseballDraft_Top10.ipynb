{
  "cells": [
    {
      "cell_type": "markdown",
      "metadata": {
        "colab_type": "text",
        "id": "view-in-github"
      },
      "source": [
        "<a href=\"https://colab.research.google.com/github/tracyhua2/SYS3034-BaseballCase/blob/main/Code/BaseballDraft_Top10.ipynb\" target=\"_parent\"><img src=\"https://colab.research.google.com/assets/colab-badge.svg\" alt=\"Open In Colab\"/></a>"
      ]
    },
    {
      "cell_type": "code",
      "execution_count": 88,
      "metadata": {
        "id": "SKPh5BfV18zm"
      },
      "outputs": [],
      "source": [
        "import pandas as pd\n",
        "from itertools import combinations\n",
        "\n",
        "player_url = \"https://raw.githubusercontent.com/tracyhua2/SYS3034-BaseballCase/refs/heads/main/Data/player_data.csv\"\n",
        "player_data = pd.read_csv(player_url)\n",
        "\n",
        "weights_url = \"https://raw.githubusercontent.com/tracyhua2/SYS3034-BaseballCase/refs/heads/main/Data/final_weights.csv\"\n",
        "weights_data = pd.read_csv(weights_url)\n",
        "\n",
        "team_url = \"https://raw.githubusercontent.com/tracyhua2/SYS3034-BaseballCase/refs/heads/main/Data/team_performance.csv\"\n",
        "team_data = pd.read_csv(team_url)"
      ]
    },
    {
      "cell_type": "code",
      "execution_count": null,
      "metadata": {},
      "outputs": [],
      "source": [
        "print(weights_data)"
      ]
    },
    {
      "cell_type": "code",
      "execution_count": null,
      "metadata": {
        "colab": {
          "base_uri": "https://localhost:8080/",
          "height": 206
        },
        "id": "tPMFsvOfw2Lv",
        "outputId": "66973a4f-6d4c-46eb-f387-3c9425a52fd0"
      },
      "outputs": [],
      "source": [
        "# Create copy of player_data\n",
        "player_df = player_data.copy()\n",
        "\n",
        "# Change Player column to float\n",
        "player_df['Player'] = player_df['Player'].str.replace(',', '').astype(float)\n",
        "\n",
        "player_df.head()"
      ]
    },
    {
      "cell_type": "code",
      "execution_count": null,
      "metadata": {
        "colab": {
          "base_uri": "https://localhost:8080/",
          "height": 206
        },
        "id": "5violValzKVx",
        "outputId": "1638d31f-9093-4e4a-a6c4-37a36ce0673d"
      },
      "outputs": [],
      "source": [
        "# View team_data\n",
        "team_data.head()"
      ]
    },
    {
      "cell_type": "code",
      "execution_count": null,
      "metadata": {
        "colab": {
          "base_uri": "https://localhost:8080/",
          "height": 212
        },
        "id": "rHEItkUB43qn",
        "outputId": "e89ca057-e013-4f7a-ff14-1ec8b1534131"
      },
      "outputs": [],
      "source": [
        "# Find the 4 best-performing players within the budget of 30M\n",
        "def select_top_players_budget(player_df, max_players = 4, budget=30000000):\n",
        "  player_df = player_df.sort_values('final_score', ascending=False).reset_index()\n",
        "  for num_players in range(1, max_players + 1):\n",
        "    for combo in combinations(player_df.index, num_players):\n",
        "          selected_players = player_df.loc[list(combo)]\n",
        "          total_salary = selected_players['Player'].sum()\n",
        "\n",
        "          best_players = None\n",
        "          best_score = 0\n",
        "\n",
        "          if total_salary <= budget:\n",
        "              total_score = selected_players['final_score'].sum()\n",
        "              if total_score > best_score:\n",
        "                  best_players = selected_players\n",
        "                  best_score = total_score\n",
        "  return best_players\n",
        "\n",
        "select_top_players_budget(player_df, max_players=4, budget=30000000)"
      ]
    },
    {
      "cell_type": "code",
      "execution_count": 99,
      "metadata": {
        "id": "4fx_Jabp7t2n"
      },
      "outputs": [],
      "source": [
        "# Weights with metrics from data frame into list\n",
        "weights_list = weights_data.values.tolist()\n",
        "\n",
        "# Simulate the effect on Seattle's win perecentage based on top players\n",
        "def optimize_team_performance(player_df, team_data, team_id, budget=30000000):\n",
        "    def win_contribution(player):\n",
        "      return (player['stat'] * weight for stat, weight in weights.items() if stat in player) # type: ignore\n",
        "\n",
        "    optimized_players = select_top_players_budget(player_df, max_players=4, budget=budget)\n",
        "    team = team_data.loc[team_data['team_rank'] == team_id].copy()\n",
        "\n",
        "    for stat in optimized_players.columns:\n",
        "       team['win_percentage'] += (optimized_players[stat].sum()*weights_data[stat].values[0])\n",
        "\n",
        "    return team, optimized_players\n",
        "\n"
      ]
    },
    {
      "cell_type": "code",
      "execution_count": 100,
      "metadata": {
        "id": "5tKZx_Z48WYS"
      },
      "outputs": [
        {
          "ename": "KeyError",
          "evalue": "'index'",
          "output_type": "error",
          "traceback": [
            "\u001b[1;31m---------------------------------------------------------------------------\u001b[0m",
            "\u001b[1;31mKeyError\u001b[0m                                  Traceback (most recent call last)",
            "File \u001b[1;32m~\\AppData\\Roaming\\Python\\Python311\\site-packages\\pandas\\core\\indexes\\base.py:3805\u001b[0m, in \u001b[0;36mIndex.get_loc\u001b[1;34m(self, key)\u001b[0m\n\u001b[0;32m   3804\u001b[0m \u001b[38;5;28;01mtry\u001b[39;00m:\n\u001b[1;32m-> 3805\u001b[0m     \u001b[38;5;28;01mreturn\u001b[39;00m \u001b[38;5;28mself\u001b[39m\u001b[38;5;241m.\u001b[39m_engine\u001b[38;5;241m.\u001b[39mget_loc(casted_key)\n\u001b[0;32m   3806\u001b[0m \u001b[38;5;28;01mexcept\u001b[39;00m \u001b[38;5;167;01mKeyError\u001b[39;00m \u001b[38;5;28;01mas\u001b[39;00m err:\n",
            "File \u001b[1;32mindex.pyx:167\u001b[0m, in \u001b[0;36mpandas._libs.index.IndexEngine.get_loc\u001b[1;34m()\u001b[0m\n",
            "File \u001b[1;32mindex.pyx:196\u001b[0m, in \u001b[0;36mpandas._libs.index.IndexEngine.get_loc\u001b[1;34m()\u001b[0m\n",
            "File \u001b[1;32mpandas\\\\_libs\\\\hashtable_class_helper.pxi:7081\u001b[0m, in \u001b[0;36mpandas._libs.hashtable.PyObjectHashTable.get_item\u001b[1;34m()\u001b[0m\n",
            "File \u001b[1;32mpandas\\\\_libs\\\\hashtable_class_helper.pxi:7089\u001b[0m, in \u001b[0;36mpandas._libs.hashtable.PyObjectHashTable.get_item\u001b[1;34m()\u001b[0m\n",
            "\u001b[1;31mKeyError\u001b[0m: 'index'",
            "\nThe above exception was the direct cause of the following exception:\n",
            "\u001b[1;31mKeyError\u001b[0m                                  Traceback (most recent call last)",
            "Cell \u001b[1;32mIn[100], line 2\u001b[0m\n\u001b[0;32m      1\u001b[0m \u001b[38;5;66;03m# Simulate team 26 (Seattle) performance with budget\u001b[39;00m\n\u001b[1;32m----> 2\u001b[0m team_performance, top_players \u001b[38;5;241m=\u001b[39m optimize_team_performance(player_df, team_data,\n\u001b[0;32m      3\u001b[0m                                                              team_id\u001b[38;5;241m=\u001b[39m\u001b[38;5;241m26\u001b[39m, budget\u001b[38;5;241m=\u001b[39m\u001b[38;5;241m30000000\u001b[39m)\n",
            "Cell \u001b[1;32mIn[99], line 13\u001b[0m, in \u001b[0;36moptimize_team_performance\u001b[1;34m(player_df, team_data, team_id, budget)\u001b[0m\n\u001b[0;32m     10\u001b[0m team \u001b[38;5;241m=\u001b[39m team_data\u001b[38;5;241m.\u001b[39mloc[team_data[\u001b[38;5;124m'\u001b[39m\u001b[38;5;124mteam_rank\u001b[39m\u001b[38;5;124m'\u001b[39m] \u001b[38;5;241m==\u001b[39m team_id]\u001b[38;5;241m.\u001b[39mcopy()\n\u001b[0;32m     12\u001b[0m \u001b[38;5;28;01mfor\u001b[39;00m stat \u001b[38;5;129;01min\u001b[39;00m optimized_players\u001b[38;5;241m.\u001b[39mcolumns:\n\u001b[1;32m---> 13\u001b[0m    team[\u001b[38;5;124m'\u001b[39m\u001b[38;5;124mwin_percentage\u001b[39m\u001b[38;5;124m'\u001b[39m] \u001b[38;5;241m+\u001b[39m\u001b[38;5;241m=\u001b[39m (optimized_players[stat]\u001b[38;5;241m.\u001b[39msum()\u001b[38;5;241m*\u001b[39mweights_data[stat]\u001b[38;5;241m.\u001b[39mvalues[\u001b[38;5;241m0\u001b[39m])\n\u001b[0;32m     15\u001b[0m \u001b[38;5;28;01mreturn\u001b[39;00m team, optimized_players\n",
            "File \u001b[1;32m~\\AppData\\Roaming\\Python\\Python311\\site-packages\\pandas\\core\\frame.py:4102\u001b[0m, in \u001b[0;36mDataFrame.__getitem__\u001b[1;34m(self, key)\u001b[0m\n\u001b[0;32m   4100\u001b[0m \u001b[38;5;28;01mif\u001b[39;00m \u001b[38;5;28mself\u001b[39m\u001b[38;5;241m.\u001b[39mcolumns\u001b[38;5;241m.\u001b[39mnlevels \u001b[38;5;241m>\u001b[39m \u001b[38;5;241m1\u001b[39m:\n\u001b[0;32m   4101\u001b[0m     \u001b[38;5;28;01mreturn\u001b[39;00m \u001b[38;5;28mself\u001b[39m\u001b[38;5;241m.\u001b[39m_getitem_multilevel(key)\n\u001b[1;32m-> 4102\u001b[0m indexer \u001b[38;5;241m=\u001b[39m \u001b[38;5;28mself\u001b[39m\u001b[38;5;241m.\u001b[39mcolumns\u001b[38;5;241m.\u001b[39mget_loc(key)\n\u001b[0;32m   4103\u001b[0m \u001b[38;5;28;01mif\u001b[39;00m is_integer(indexer):\n\u001b[0;32m   4104\u001b[0m     indexer \u001b[38;5;241m=\u001b[39m [indexer]\n",
            "File \u001b[1;32m~\\AppData\\Roaming\\Python\\Python311\\site-packages\\pandas\\core\\indexes\\base.py:3812\u001b[0m, in \u001b[0;36mIndex.get_loc\u001b[1;34m(self, key)\u001b[0m\n\u001b[0;32m   3807\u001b[0m     \u001b[38;5;28;01mif\u001b[39;00m \u001b[38;5;28misinstance\u001b[39m(casted_key, \u001b[38;5;28mslice\u001b[39m) \u001b[38;5;129;01mor\u001b[39;00m (\n\u001b[0;32m   3808\u001b[0m         \u001b[38;5;28misinstance\u001b[39m(casted_key, abc\u001b[38;5;241m.\u001b[39mIterable)\n\u001b[0;32m   3809\u001b[0m         \u001b[38;5;129;01mand\u001b[39;00m \u001b[38;5;28many\u001b[39m(\u001b[38;5;28misinstance\u001b[39m(x, \u001b[38;5;28mslice\u001b[39m) \u001b[38;5;28;01mfor\u001b[39;00m x \u001b[38;5;129;01min\u001b[39;00m casted_key)\n\u001b[0;32m   3810\u001b[0m     ):\n\u001b[0;32m   3811\u001b[0m         \u001b[38;5;28;01mraise\u001b[39;00m InvalidIndexError(key)\n\u001b[1;32m-> 3812\u001b[0m     \u001b[38;5;28;01mraise\u001b[39;00m \u001b[38;5;167;01mKeyError\u001b[39;00m(key) \u001b[38;5;28;01mfrom\u001b[39;00m \u001b[38;5;21;01merr\u001b[39;00m\n\u001b[0;32m   3813\u001b[0m \u001b[38;5;28;01mexcept\u001b[39;00m \u001b[38;5;167;01mTypeError\u001b[39;00m:\n\u001b[0;32m   3814\u001b[0m     \u001b[38;5;66;03m# If we have a listlike key, _check_indexing_error will raise\u001b[39;00m\n\u001b[0;32m   3815\u001b[0m     \u001b[38;5;66;03m#  InvalidIndexError. Otherwise we fall through and re-raise\u001b[39;00m\n\u001b[0;32m   3816\u001b[0m     \u001b[38;5;66;03m#  the TypeError.\u001b[39;00m\n\u001b[0;32m   3817\u001b[0m     \u001b[38;5;28mself\u001b[39m\u001b[38;5;241m.\u001b[39m_check_indexing_error(key)\n",
            "\u001b[1;31mKeyError\u001b[0m: 'index'"
          ]
        }
      ],
      "source": [
        "# Simulate team 26 (Seattle) performance with budget\n",
        "team_performance, top_players = optimize_team_performance(player_df, team_data,\n",
        "                                                             team_id=26, budget=30000000)"
      ]
    },
    {
      "cell_type": "code",
      "execution_count": null,
      "metadata": {
        "colab": {
          "base_uri": "https://localhost:8080/"
        },
        "id": "kugsf4kw-K8C",
        "outputId": "2d51ae70-2d3d-4872-f0b8-9fe5be7bd7ef"
      },
      "outputs": [],
      "source": [
        "# Team performance based on selected players\n",
        "print(team_performance)"
      ]
    },
    {
      "cell_type": "code",
      "execution_count": null,
      "metadata": {
        "colab": {
          "base_uri": "https://localhost:8080/"
        },
        "id": "UIezMCM--MXL",
        "outputId": "03cfe7cd-5ed2-43c9-ff8f-444ef943221e"
      },
      "outputs": [],
      "source": [
        "# Top 4 players chosen based on optimization\n",
        "print(top_players)"
      ]
    },
    {
      "cell_type": "markdown",
      "metadata": {},
      "source": [
        "    # team['RBI'] += optimized_players['RBI'].sum() * 0.1 # Interval increase for each player to measure improvement (.1 is the weight)\n",
        "    # team['win_percentage'] += (optimized_players['HR'].sum() * 0.01)  # Using home runs as variable for performance boost\n",
        "    # team['win_percentage'] += (optimized_players['AB'].sum()*.01)\n",
        "    # team['win_percentage'] += (optimized_players['R'].sum()*.01)\n",
        "    # team['win_percentage'] += (optimized_players['H'].sum()*.01)\n",
        "    # team['win_percentage'] += (optimized_players['2B'].sum()*.01)\n",
        "    # team['win_percentage'] += (optimized_players['3B'].sum()*.01)\n",
        "    # team['win_percentage'] += (optimized_players['HR'].sum()*.01)\n",
        "    # team['win_percentage'] += (optimized_players['RBI'].sum()*.01)\n",
        "    # team['win_percentage'] += (optimized_players['SB'].sum()*.01)\n",
        "    # team['win_percentage'] += (optimized_players['CS'].sum()*.01)\n",
        "    # team['win_percentage'] += (optimized_players['BB'].sum()*.01)\n",
        "    # team['win_percentage'] += (optimized_players['BA'].sum()*.01)\n",
        "    # team['win_percentage'] += (optimized_players['OBP'].sum()*.01)\n",
        "    # team['win_percentage'] += (optimized_players['SLG'].sum()*.01)\n",
        "    # team['win_percentage'] += (optimized_players['OPS'].sum()*.01)"
      ]
    }
  ],
  "metadata": {
    "colab": {
      "authorship_tag": "ABX9TyMu+5ofGV+5640AAi91/H1u",
      "include_colab_link": true,
      "provenance": []
    },
    "kernelspec": {
      "display_name": "base",
      "language": "python",
      "name": "python3"
    },
    "language_info": {
      "codemirror_mode": {
        "name": "ipython",
        "version": 3
      },
      "file_extension": ".py",
      "mimetype": "text/x-python",
      "name": "python",
      "nbconvert_exporter": "python",
      "pygments_lexer": "ipython3",
      "version": "3.11.5"
    }
  },
  "nbformat": 4,
  "nbformat_minor": 0
}
