{
  "cells": [
    {
      "cell_type": "code",
      "execution_count": null,
      "metadata": {
        "id": "lshXsOL57_tf"
      },
      "outputs": [],
      "source": [
        "import pandas as pd\n",
        "from itertools import combinations\n",
        "\n",
        "player_url = \"https://raw.githubusercontent.com/tracyhua2/SYS3034-BaseballCase/refs/heads/main/Data/player_data.csv\"\n",
        "player_data = pd.read_csv(player_url)\n",
        "\n",
        "\n",
        "team_url = \"https://raw.githubusercontent.com/tracyhua2/SYS3034-BaseballCase/refs/heads/main/Data/team_performance.csv\"\n",
        "team_data = pd.read_csv(team_url)"
      ]
    },
    {
      "cell_type": "code",
      "execution_count": null,
      "metadata": {},
      "outputs": [],
      "source": [
        "team_data.columns"
      ]
    },
    {
      "cell_type": "code",
      "execution_count": null,
      "metadata": {},
      "outputs": [],
      "source": [
        "team_data.head()"
      ]
    },
    {
      "cell_type": "code",
      "execution_count": null,
      "metadata": {
        "colab": {
          "base_uri": "https://localhost:8080/",
          "height": 243
        },
        "id": "v13165Nz8Yb7",
        "outputId": "d072f059-9be3-44a0-c97a-86de4f0c1458"
      },
      "outputs": [],
      "source": [
        "# Create copy of player_data\n",
        "player_df = player_data.copy()\n",
        "\n",
        "# Change Player column to float\n",
        "player_df['Player'] = player_df['Player'].str.replace(',', '').astype(float)\n",
        "\n",
        "player_df.head()"
      ]
    },
    {
      "cell_type": "markdown",
      "metadata": {},
      "source": [
        "Predicted Win % based on scaled weights (Not Using Pythagorean Theorem of Win Percentage)\n"
      ]
    },
    {
      "cell_type": "code",
      "execution_count": null,
      "metadata": {
        "colab": {
          "base_uri": "https://localhost:8080/"
        },
        "id": "z1-m-zCe8_bk",
        "outputId": "124f7422-832f-44b8-f802-295d0852040d"
      },
      "outputs": [],
      "source": [
        "def calculate_win_percentage(player, team_win_pct):\n",
        "    # Define weights dictionary\n",
        "    weights = {\n",
        "        'AB': 0.026580,\n",
        "        'R': 0.100512,\n",
        "        'H': 0.072376,\n",
        "        '2B': 0.026418,\n",
        "        '3B': 0.006667,\n",
        "        'HR': 0.073431,\n",
        "        'TB': 0.093896,\n",
        "        'RBI': 0.064800,\n",
        "        'BA': 0.064209,\n",
        "        'OBP': 0.105842,\n",
        "        'SLG': 0.114382,\n",
        "        'OPS': 0.128888,\n",
        "        'BB': 0.037556,\n",
        "        'CS': 0.042222,\n",
        "        'SB': 0.042222\n",
        "    }\n",
        "\n",
        "    # Calculate contribution\n",
        "    contribution = 0\n",
        "    for stat, weight in weights.items():\n",
        "        if stat in player.index:  # Check if stat exists in player's data\n",
        "            contribution += player[stat] * weight\n",
        "\n",
        "    # Add contribution to team's base win percentage\n",
        "    predicted_win = team_win_pct + contribution\n",
        "    return predicted_win\n",
        "\n",
        "# Get top 10 players\n",
        "# Use player_df instead of player_data to access the converted 'Player' column\n",
        "top_10 = player_df.sort_values('final_score', ascending=False).head(10)\n",
        "\n",
        "# Get team win percentage for team 26\n",
        "team_win = team_data.loc[team_data['team_rank'] == 26, 'win_percentage'].values[0]\n",
        "\n",
        "# Calculate predicted win percentage for each player\n",
        "for _, player in top_10.iterrows():\n",
        "    predicted_win = calculate_win_percentage(player, team_win)\n",
        "    print(f\"Player {int(player['Player #'])}: Team Predicted Win = {predicted_win:.3f}\")"
      ]
    },
    {
      "cell_type": "markdown",
      "metadata": {},
      "source": [
        "Predicted Win % based on simulated Runs Allowed/Runs Scored (Pythagorean Formula for Calculating win Percentage): https://www.samford.edu/sports-analytics/fans/2022/MLB-Winning-Percentage-Breakdown-Which-Statistics-Help-Teams-Win-More-Games\n"
      ]
    },
    {
      "cell_type": "code",
      "execution_count": 26,
      "metadata": {},
      "outputs": [],
      "source": [
        "def simulate_team_runs(player_stats, base_team_runs):\n",
        "    # Offensive weights that contribute to run production\n",
        "    run_weights = {\n",
        "        'R': 0.100512,\n",
        "        'H': 0.072376,\n",
        "        'HR': 0.073431,\n",
        "        'RBI': 0.064800,\n",
        "        'OBP': 0.105842,\n",
        "        'SLG': 0.114382\n",
        "    }\n",
        "    \n",
        "    # Calculate additional runs contribution\n",
        "    runs_contribution = 0\n",
        "    for stat, weight in run_weights.items():\n",
        "        if stat in player_stats:\n",
        "            runs_contribution += player_stats[stat] * weight\n",
        "    \n",
        "    # Add to base team runs\n",
        "    simulated_runs = base_team_runs + runs_contribution\n",
        "    return simulated_runs\n",
        "\n",
        "def predict_win_percentage(simulated_runs, runs_allowed):\n",
        "    return (simulated_runs ** 2) / ((simulated_runs ** 2) + (runs_allowed ** 2)) #pythagorean theorem\n"
      ]
    },
    {
      "cell_type": "code",
      "execution_count": 50,
      "metadata": {},
      "outputs": [
        {
          "name": "stdout",
          "output_type": "stream",
          "text": [
            "Base Runs Scored: 671\n",
            "\n",
            "Base Runs Allowed: 811\n",
            "\n"
          ]
        }
      ],
      "source": [
        "# Get base team stats (Team 26 - Seattle)\n",
        "base_runs_scored = 671  \n",
        "base_runs_allowed = 811\n",
        "games_played = 162  \n",
        "print(f\"Base Runs Scored: {base_runs_scored}\\n\")\n",
        "print(f\"Base Runs Allowed: {base_runs_allowed}\\n\")"
      ]
    },
    {
      "cell_type": "code",
      "execution_count": 58,
      "metadata": {},
      "outputs": [
        {
          "name": "stdout",
          "output_type": "stream",
          "text": [
            "Player 13\n",
            "Simulated Runs: 706.8\n",
            "Predicted Win%: 43.17%\n",
            "\n",
            "Predicted %Gain For Player: 5.51%\n",
            "\n",
            "Player 41\n",
            "Simulated Runs: 703.2\n",
            "Predicted Win%: 42.92%\n",
            "\n",
            "Predicted %Gain For Player: 5.27%\n",
            "\n",
            "Player 49\n",
            "Simulated Runs: 704.4\n",
            "Predicted Win%: 43.00%\n",
            "\n",
            "Predicted %Gain For Player: 5.35%\n",
            "\n",
            "Player 4\n",
            "Simulated Runs: 705.0\n",
            "Predicted Win%: 43.04%\n",
            "\n",
            "Predicted %Gain For Player: 5.39%\n",
            "\n",
            "Player 26\n",
            "Simulated Runs: 704.4\n",
            "Predicted Win%: 43.00%\n",
            "\n",
            "Predicted %Gain For Player: 5.35%\n",
            "\n",
            "Player 1\n",
            "Simulated Runs: 702.8\n",
            "Predicted Win%: 42.89%\n",
            "\n",
            "Predicted %Gain For Player: 5.23%\n",
            "\n",
            "Player 14\n",
            "Simulated Runs: 705.5\n",
            "Predicted Win%: 43.07%\n",
            "\n",
            "Predicted %Gain For Player: 5.42%\n",
            "\n",
            "Player 37\n",
            "Simulated Runs: 702.0\n",
            "Predicted Win%: 42.84%\n",
            "\n",
            "Predicted %Gain For Player: 5.18%\n",
            "\n",
            "Player 28\n",
            "Simulated Runs: 704.4\n",
            "Predicted Win%: 43.00%\n",
            "\n",
            "Predicted %Gain For Player: 5.35%\n",
            "\n",
            "Player 31\n",
            "Simulated Runs: 703.3\n",
            "Predicted Win%: 42.92%\n",
            "\n",
            "Predicted %Gain For Player: 5.27%\n",
            "\n"
          ]
        }
      ],
      "source": [
        "# For each highlighted player\n",
        "win_rate_dict = {}\n",
        "\n",
        "for _, player in top_10.iterrows():\n",
        "    # Simulate new runs scored with player\n",
        "    new_runs = simulate_team_runs(player, base_runs_scored)\n",
        "    \n",
        "    # Calculate new win percentage\n",
        "    predicted_win_pct = predict_win_percentage(new_runs, base_runs_allowed)\n",
        "\n",
        "    #append to dictionary \n",
        "    win_rate_dict[player['Player #']] = predicted_win_pct\n",
        "\n",
        "    print(f\"Player {int(player['Player #'])}\")\n",
        "    print(f\"Simulated Runs: {new_runs:.1f}\")\n",
        "    print(f\"Predicted Win%: {(predicted_win_pct*100):.2f}%\\n\")\n",
        "    team_win_pct = team_data.loc[team_data['team_rank']==26,'win_percentage'].values[0]\n",
        "    print(f\"Predicted %Gain For Player: {(predicted_win_pct-team_win_pct)*100:.2f}%\\n\")\n",
        "\n"
      ]
    },
    {
      "cell_type": "code",
      "execution_count": 64,
      "metadata": {},
      "outputs": [
        {
          "name": "stdout",
          "output_type": "stream",
          "text": [
            "The predicted win percentage average:42.99% \n",
            "\n",
            "The approximate (2 decimal places) predicted games won: 70\n",
            "\n"
          ]
        }
      ],
      "source": [
        "win_rate_dict\n",
        "avg_rate = sum(win_rate_dict.values())/ len(win_rate_dict)\n",
        "print(f\"The predicted win percentage average:{avg_rate*100:.2f}% \\n\")\n",
        "print(f\"The approximate (2 decimal places) predicted games won: {avg_rate*games_played:.0f}\\n\")\n"
      ]
    }
  ],
  "metadata": {
    "colab": {
      "provenance": []
    },
    "kernelspec": {
      "display_name": "base",
      "language": "python",
      "name": "python3"
    },
    "language_info": {
      "codemirror_mode": {
        "name": "ipython",
        "version": 3
      },
      "file_extension": ".py",
      "mimetype": "text/x-python",
      "name": "python",
      "nbconvert_exporter": "python",
      "pygments_lexer": "ipython3",
      "version": "3.11.5"
    }
  },
  "nbformat": 4,
  "nbformat_minor": 0
}
